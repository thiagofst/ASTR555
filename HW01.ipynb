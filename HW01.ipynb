{
 "cells": [
  {
   "cell_type": "code",
   "execution_count": 1,
   "metadata": {},
   "outputs": [],
   "source": [
    "import numpy as np\n",
    "import matplotlib.pyplot as plt\n",
    "import astropy.units as u\n",
    "\n",
    "from scipy import integrate\n",
    "from astropy.io import ascii\n",
    "from astropy.cosmology import Planck15"
   ]
  },
  {
   "cell_type": "code",
   "execution_count": 2,
   "metadata": {},
   "outputs": [
    {
     "data": {
      "text/html": [
       "<div>\n",
       "<style scoped>\n",
       "    .dataframe tbody tr th:only-of-type {\n",
       "        vertical-align: middle;\n",
       "    }\n",
       "\n",
       "    .dataframe tbody tr th {\n",
       "        vertical-align: top;\n",
       "    }\n",
       "\n",
       "    .dataframe thead th {\n",
       "        text-align: right;\n",
       "    }\n",
       "</style>\n",
       "<table border=\"1\" class=\"dataframe\">\n",
       "  <thead>\n",
       "    <tr style=\"text-align: right;\">\n",
       "      <th></th>\n",
       "      <th>l</th>\n",
       "      <th>f</th>\n",
       "    </tr>\n",
       "  </thead>\n",
       "  <tbody>\n",
       "    <tr>\n",
       "      <th>0</th>\n",
       "      <td>21000.0</td>\n",
       "      <td>1.700000e-18</td>\n",
       "    </tr>\n",
       "    <tr>\n",
       "      <th>1</th>\n",
       "      <td>21002.0</td>\n",
       "      <td>1.700000e-18</td>\n",
       "    </tr>\n",
       "  </tbody>\n",
       "</table>\n",
       "</div>"
      ],
      "text/plain": [
       "         l             f\n",
       "0  21000.0  1.700000e-18\n",
       "1  21002.0  1.700000e-18"
      ]
     },
     "execution_count": 2,
     "metadata": {},
     "output_type": "execute_result"
    }
   ],
   "source": [
    "data = ascii.read('hw1_spec.dat').to_pandas()\n",
    "data.l = (data.l.values*u.micrometer).to(u.Angstrom).value\n",
    "\n",
    "data.head(2)"
   ]
  },
  {
   "cell_type": "markdown",
   "metadata": {},
   "source": [
    "## (a)"
   ]
  },
  {
   "cell_type": "code",
   "execution_count": 3,
   "metadata": {},
   "outputs": [
    {
     "name": "stdout",
     "output_type": "stream",
     "text": [
      "Estimated Line Flux: 1.7499998599999979e-15 erg/s/cm^2\n"
     ]
    }
   ],
   "source": [
    "wavelength = np.array(data.l)\n",
    "flux_density = np.array(data.f)\n",
    "\n",
    "line_flux = integrate.trapz(flux_density, wavelength)\n",
    "\n",
    "print(f'Estimated Line Flux: {line_flux} erg/s/cm^2')"
   ]
  },
  {
   "cell_type": "markdown",
   "metadata": {},
   "source": [
    "## (b)"
   ]
  },
  {
   "cell_type": "code",
   "execution_count": 4,
   "metadata": {},
   "outputs": [
    {
     "name": "stdout",
     "output_type": "stream",
     "text": [
      "z = 2.3000152369343283\n"
     ]
    }
   ],
   "source": [
    "H0 = 70  # Hubble [km/s/Mpc]\n",
    "cosmo = Planck15\n",
    "\n",
    "wavelength_Halpha = data.l[np.argmax(data.f)]\n",
    "rest_wavelength_Halpha = 6563\n",
    "\n",
    "# Redshift\n",
    "z = (wavelength_Halpha / rest_wavelength_Halpha) - 1\n",
    "print(f'z = {z}')\n",
    "\n",
    "# Luminosity distance\n",
    "D_L = cosmo.luminosity_distance(z).to('cm').value\n",
    "\n",
    "# Wavelength range for integration\n",
    "min_wavelength = wavelength.min()\n",
    "max_wavelength = wavelength.max()\n",
    "\n",
    "# Mask data within the specified wavelength range\n",
    "mask = (wavelength >= min_wavelength) & (wavelength <= max_wavelength)\n",
    "wavelength_range = wavelength[mask]\n",
    "flux_density_range = flux_density[mask]\n",
    "\n",
    "flux_Halpha = integrate.trapz(flux_density_range, wavelength_range)"
   ]
  },
  {
   "cell_type": "code",
   "execution_count": 5,
   "metadata": {},
   "outputs": [
    {
     "name": "stdout",
     "output_type": "stream",
     "text": [
      "Halpha Line Luminosity: 7.472720426962402e+43 erg/s\n"
     ]
    }
   ],
   "source": [
    "line_luminosity = 4 * np.pi * D_L**2 * flux_Halpha\n",
    "\n",
    "print('Halpha Line Luminosity:', line_luminosity, 'erg/s')"
   ]
  }
 ],
 "metadata": {
  "kernelspec": {
   "display_name": "Python 3",
   "language": "python",
   "name": "python3"
  },
  "language_info": {
   "codemirror_mode": {
    "name": "ipython",
    "version": 3
   },
   "file_extension": ".py",
   "mimetype": "text/x-python",
   "name": "python",
   "nbconvert_exporter": "python",
   "pygments_lexer": "ipython3",
   "version": "3.9.6"
  }
 },
 "nbformat": 4,
 "nbformat_minor": 2
}
